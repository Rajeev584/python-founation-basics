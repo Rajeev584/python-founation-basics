{
 "cells": [
  {
   "cell_type": "code",
   "execution_count": null,
   "id": "38f711c2-7073-44d2-882a-1458e9c6011f",
   "metadata": {},
   "outputs": [],
   "source": [
    "Q1. Write all the conventions being followed while declaring a variable?\n",
    "\n",
    "(i) THE VARIABLE NAME SHOULD START WITH UPERCASE OR LOWERCASE ,BUT DOES NOT START \n",
    "WITH SPECIAL CHARACTERS('/','-','#').\n",
    "(ii) VARIABLE NAME IS ALPHANUMERIC WHICH DOES NOT CONTAIN SPECIAL CHARACTERS.\n",
    "(iii) variable name is case sensitive.\n",
    "\n",
    "Q2:What will happen if we declare a restricted keyword as a variable?\n",
    "\n",
    "THEN IT WILL SHOW AN ERROR IF WE USE A RESTRICTED KEYWORD AS A VARIABLE NAME.\n",
    "\n",
    "Q3:Can we actually declare a string as a variable name?\n",
    "\n",
    " YES\n",
    "Q4:Is it possible for us to declare “_” as a variable? If so, then write an example of it.\n",
    "\n",
    "NO,WE CANNOT USE SPECIAL CHARACTER AS VARIABLE NAME.\n",
    "\n",
    "Q5:Using an example, explain how the variables in python are dynamic in nature.\n",
    "\n",
    "VARIABLE NAME ARE DYNAMIC IN NATURE ,ITS CHANGES WHEN WE CHANGE THE VALUE OF LITERAL.\n",
    "EXAMPLE:  X=5\n",
    "          X=12\n",
    "          X=45\n",
    "        THE FINAL VALUE OF VARIABLE X WILL BE 45 AND NOT 5."
   ]
  }
 ],
 "metadata": {
  "kernelspec": {
   "display_name": "Python 3 (ipykernel)",
   "language": "python",
   "name": "python3"
  },
  "language_info": {
   "codemirror_mode": {
    "name": "ipython",
    "version": 3
   },
   "file_extension": ".py",
   "mimetype": "text/x-python",
   "name": "python",
   "nbconvert_exporter": "python",
   "pygments_lexer": "ipython3",
   "version": "3.10.8"
  }
 },
 "nbformat": 4,
 "nbformat_minor": 5
}
